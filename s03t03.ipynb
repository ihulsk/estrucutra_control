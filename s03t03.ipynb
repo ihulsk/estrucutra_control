{
 "cells": [
  {
   "cell_type": "markdown",
   "id": "35a1d572",
   "metadata": {},
   "source": [
    "## Nivell 1: Estructura de control\n",
    "\n",
    "### Exercici 1\n",
    "L'exercici consisteix a crear un programa que et classifiqui una variable numèrica en funció de l’escala Suspès/Aprovat/Notable/Excel·lent."
   ]
  },
  {
   "cell_type": "code",
   "execution_count": 9,
   "id": "4b4b6461",
   "metadata": {},
   "outputs": [
    {
     "name": "stdout",
     "output_type": "stream",
     "text": [
      "Introdueix un nombre entre 0 i 10 per a la seva classificació: 10\n",
      "El nombre indica que un Excel·lent\n"
     ]
    }
   ],
   "source": [
    "num = int(input(\"Introdueix un nombre entre 0 i 10 per a la seva classificació: \"))\n",
    "if (num < 0 or num > 10):\n",
    "    print(\"Error! has introuit un nombre que no és vàlid\")\n",
    "elif(num < 4):\n",
    "    print(\"El nombre indica que un Suspès\")\n",
    "elif(num < 7):\n",
    "    print(\"El nombre indica que un Aprovat\")\n",
    "elif(num < 10):\n",
    "    print(\"El nombre que has introduit indica un Notable\")\n",
    "else: \n",
    "    print(\"El nombre que has introduit indica un Excel·lent\")"
   ]
  },
  {
   "cell_type": "markdown",
   "id": "7b33c59f",
   "metadata": {},
   "source": [
    "### Exercici 2\n",
    "Utilitzant el següent tutorial Programiz: Python Input, Output and Import crea un programa que et pregunti dos números. T’ha de mostrar un missatge dient si el primer és més gran, el segon és més gran o són iguals."
   ]
  },
  {
   "cell_type": "code",
   "execution_count": 14,
   "id": "8fe95981",
   "metadata": {},
   "outputs": [
    {
     "name": "stdout",
     "output_type": "stream",
     "text": [
      "Introdueix un primer nombre senser: 9\n",
      "Introdueix un segon nombre senser: 7\n",
      "El primer nombre que has introuït  9  es més gran que el segon  7\n"
     ]
    }
   ],
   "source": [
    "num1 = int(input(\"Introdueix un primer nombre senser: \"))\n",
    "num2 = int(input(\"Introdueix un segon nombre senser: \"))\n",
    "if num1 > num2:\n",
    "    print(\"El primer nombre que has introuït \", num1,  \" es més gran que el segon \", num2)\n",
    "elif num1 < num2:\n",
    "    print(\"El segon nombre que has introuït \", num2,  \" es més gran que el primer \", num1)\n",
    "else:\n",
    "    print(\"El primer nombre que has introuït \", num1,  \" es igual que el segon \", num2)"
   ]
  },
  {
   "cell_type": "markdown",
   "id": "4af4312e",
   "metadata": {},
   "source": [
    "### Exercici 3\n",
    "Crea un programa que et pregunti el teu nom, i et demani un número. Si el número és 0, hauria de mostrar un missatge d’error. En cas contrari, hauria de mostrar el nom repetit tants cops com indiqui el número. Per exemple, “Joan Joan Joan”."
   ]
  },
  {
   "cell_type": "code",
   "execution_count": 1,
   "id": "6f34c32f",
   "metadata": {},
   "outputs": [
    {
     "name": "stdout",
     "output_type": "stream",
     "text": [
      "Introdueix el teu nom: Ian\n",
      "Ara introdueix un nombre senser: 50\n",
      "IanIanIanIanIanIanIanIanIanIanIanIanIanIanIanIanIanIanIanIanIanIanIanIanIanIanIanIanIanIanIanIanIanIanIanIanIanIanIanIanIanIanIanIanIanIanIanIanIanIan\n"
     ]
    }
   ],
   "source": [
    "nom = input(\"Introdueix el teu nom: \")\n",
    "num = int(input(\"Ara introdueix un nombre senser: \"))\n",
    "if (num == 0):\n",
    "    print(\"ERROR!! has introuduït 0 i no és pot, perdona que no t'ho havia avisat\")\n",
    "else:\n",
    "    print(nom * num)"
   ]
  },
  {
   "cell_type": "markdown",
   "id": "128bfb19",
   "metadata": {},
   "source": [
    "### Exercici 4\n",
    "Crea un programa que donada una llista qualsevol, et digui si es simètrica o no. Si ho és, que et digui quants elements té."
   ]
  },
  {
   "cell_type": "code",
   "execution_count": 46,
   "id": "0a87ba82",
   "metadata": {},
   "outputs": [
    {
     "name": "stdout",
     "output_type": "stream",
     "text": [
      "[[1, 2, 3, 4], [1, 2, 3, 4], [1, 2, 3, 4], [1, 2, 3, 'Hola']]\n",
      "La llista és simètrica i té  16  elements\n"
     ]
    }
   ],
   "source": [
    "llista = [[1,2,3,4],[1,2,3,4],[1,2,3,4],[1,2,3, \"Hola\"]]\n",
    "print(llista)\n",
    "\n",
    "def sym(llista):\n",
    "    indice = 0\n",
    "    output = list()\n",
    "    for item in llista:\n",
    "        output.append(len(llista[indice]) == len(llista))\n",
    "        indice+=1\n",
    "    return all(output)\n",
    "\n",
    "if sym(llista) == True:\n",
    "    print (\"La llista és simètrica i té \",len(llista)*len(llista),\" elements\")\n",
    "else:\n",
    "    print(\"La llista no és simètrica\")\n",
    "\n"
   ]
  },
  {
   "cell_type": "markdown",
   "id": "4c7c794c",
   "metadata": {},
   "source": [
    "### Exercici 5\n",
    "Crea un programa que donada una llista, et digui quants números coincideixen amb la seva posició. Per exemple [3,4,2,0,2,3,6] el 2 i el 6 coincideixen."
   ]
  },
  {
   "cell_type": "code",
   "execution_count": 111,
   "id": "43adbc92",
   "metadata": {},
   "outputs": [
    {
     "name": "stdout",
     "output_type": "stream",
     "text": [
      "El número  [99]  coincideix amb la seva posició.\n"
     ]
    }
   ],
   "source": [
    "import random \n",
    "llista = [random.randint(0,100) for iter in range(100)]\n",
    "\n",
    "indice = 0\n",
    "output = list()\n",
    "for item in llista:\n",
    "    if llista[indice] == indice:\n",
    "        output.append(item)\n",
    "    indice+=1\n",
    "    \n",
    "if len(output) == 1:\n",
    "    print(\"El número \", output, \" coincideix amb la seva posició.\")\n",
    "elif len(output) > 1:\n",
    "    print(\"Els números \", output, \" coincideixen amb la seva posició.\")\n",
    "else: \n",
    "    print(\"No hi ha cap número que coincideix amb la seva posició\")\n"
   ]
  }
 ],
 "metadata": {
  "kernelspec": {
   "display_name": "Python 3",
   "language": "python",
   "name": "python3"
  },
  "language_info": {
   "codemirror_mode": {
    "name": "ipython",
    "version": 3
   },
   "file_extension": ".py",
   "mimetype": "text/x-python",
   "name": "python",
   "nbconvert_exporter": "python",
   "pygments_lexer": "ipython3",
   "version": "3.8.8"
  },
  "toc": {
   "base_numbering": 1,
   "nav_menu": {},
   "number_sections": true,
   "sideBar": true,
   "skip_h1_title": false,
   "title_cell": "Table of Contents",
   "title_sidebar": "Contents",
   "toc_cell": false,
   "toc_position": {},
   "toc_section_display": true,
   "toc_window_display": false
  }
 },
 "nbformat": 4,
 "nbformat_minor": 5
}
